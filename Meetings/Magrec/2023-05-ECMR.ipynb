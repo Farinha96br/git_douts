{
 "cells": [
  {
   "attachments": {},
   "cell_type": "markdown",
   "metadata": {},
   "source": [
    "# Notas sobre European Conference on magnetic reconnection \n",
    "## (2023 - Marseille)\n",
    "\n",
    "Things to research:\n",
    "* Magnetic reconnection in general\n",
    "   _Magnetic reconnection (henceforth called \"reconnection\") refers to the breaking and reconnecting of oppositely directed magnetic field lines in a plasma. In the process, magnetic field energy is converted to plasma kinetic and thermal energy. Reconnection is at the heart of many spectacular events in our solar system._\n",
    "   \n",
    "  [Artigo interessante sobre o principio](magrec.pdf)\n",
    "   \n",
    "* Modelos sobre reconexao magnetico\n",
    "  * **Slow reconnection,Sweet–Parker**: _The first theoretical framework of magnetic reconnection was established by Peter Sweet and Eugene Parker at a conference in 1956. Sweet pointed out that by pushing two plasmas with oppositely directed magnetic fields together, resistive diffusion is able to occur on a length scale much shorter than a typical equilibrium length scale_\n",
    "  * **Fast reconnection, Petschek**: _The fundamental reason that Petschek reconnection is faster than Parker-Sweet is that it broadens the outflow region and thereby removes some of the limitation caused by the build up in plasma pressure. The inflow velocity, and thus the reconnection rate, can only be very small if the outflow region is narrow. In 1964, Harry Petschek proposed a mechanism where the inflow and outflow regions are separated by stationary slow mode shocks that stand in the inflows._\n",
    "  * [Artigo comparando ambos](recmodels.pdf) \n",
    "* [Text about H and L modes](http://www-fusion-magnetique.cea.fr/gb/fusion/physique/modesconfinement.htm)\n",
    "  * Basically (H)igh confinement mode, and (L)ow confinement mode are relatite to the pressure profile of the plamsa\n",
    "  * [More about H and L modes](LHmodes.pdf), specificaly about turbulence\n",
    "* PIC Simulation \n",
    "  * _In plasma physics, the particle-in-cell (PIC) method refers to a technique used to solve a certain class of partial differential equations. In this method, individual particles (or fluid elements) in a Lagrangian frame are tracked in continuous phase space, whereas moments of the distribution such as densities and currents are computed simultaneously on Eulerian (stationary) mesh points._\n",
    "* Edge localized tearing modes\n",
    "  * _An edge-localized mode (ELM) is a disruptive instability occurring in the edge region of a tokamak plasma due to the quasi-periodic relaxation of a transport barrier[clarification needed] previously formed during a transition from low to high-confinement mode. This phenomenon was first observed in the ASDEX tokamak in 1981. Diamagnetic effects in the model equations expand the size of the parameter space in which solutions of repeated sawteeth can be recovered compared to a resistive MHD model. An ELM can expel up to 20 percent of the reactor's energy._\n",
    "  * Aticles about ELM  [Article](edm1.pdf),  \n",
    "  * Maybe use the modes general format in my system\n",
    "  * Fabien Widmer\n",
    "* Machine learning for physics simulation **SINDy**\n",
    "  * [Article about it](SINDy.pdf)\n",
    "  * Maybe use it on my model\n",
    "* Research MHD models used for various simulations\n",
    "  * [Interesting slide presentation about MHD and Instabilities in general](MHD.pdf)\n",
    "    * Vary some parameter\n",
    "  * JOREK\n",
    "  * Current sheet modes\n",
    "    * Yoon, Phys, Plasmas, 2002\n",
    "  * Lower hybrid drift instabilities\n",
    "  * How to get MMS data\n",
    "    * Julia Stawaz\n",
    "    * Machine learning for identification "
   ]
  }
 ],
 "metadata": {
  "kernelspec": {
   "display_name": "Python 3",
   "language": "python",
   "name": "python3"
  },
  "language_info": {
   "name": "python",
   "version": "3.8.10 (default, Mar 13 2023, 10:26:41) \n[GCC 9.4.0]"
  },
  "orig_nbformat": 4,
  "vscode": {
   "interpreter": {
    "hash": "916dbcbb3f70747c44a77c7bcd40155683ae19c65e1c03b4aa3499c5328201f1"
   }
  }
 },
 "nbformat": 4,
 "nbformat_minor": 2
}
